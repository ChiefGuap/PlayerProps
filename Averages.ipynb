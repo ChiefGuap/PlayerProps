{
 "cells": [
  {
   "cell_type": "markdown",
   "metadata": {},
   "source": [
    "## Calculate Player Averages over the 4 seasons"
   ]
  },
  {
   "cell_type": "code",
   "execution_count": 30,
   "metadata": {},
   "outputs": [],
   "source": [
    "import numpy as np\n",
    "import seaborn as sns\n",
    "import pandas as pd\n",
    "import matplotlib.pyplot as plt"
   ]
  },
  {
   "cell_type": "code",
   "execution_count": 31,
   "metadata": {},
   "outputs": [
    {
     "name": "stdout",
     "output_type": "stream",
     "text": [
      "                   MIN    FGM     FGA    FTM    FTA     EFF    TOV    AST  \\\n",
      "PLAYER_encoded                                                              \n",
      "0               19.500  3.400   7.400  0.600  0.700   8.200  0.600  1.000   \n",
      "1               31.133  5.867  10.700  2.500  3.800  18.067  1.533  3.000   \n",
      "2               15.925  2.225   5.200  0.750  0.925   6.200  0.850  1.875   \n",
      "3               26.300  3.950   8.450  1.550  1.900  11.900  0.950  1.400   \n",
      "4               17.100  2.700   5.000  0.750  0.950   8.350  0.750  1.100   \n",
      "...                ...    ...     ...    ...    ...     ...    ...    ...   \n",
      "429             22.500  4.400   8.800  1.750  2.300  14.500  1.950  2.850   \n",
      "430             35.233  8.967  18.367  4.633  5.433  22.867  2.867  4.533   \n",
      "431              9.900  1.200   2.600  0.700  1.100   4.700  0.500  0.600   \n",
      "432             21.700  3.100   6.800  0.700  0.900   7.400  0.700  1.000   \n",
      "433             32.350  9.650  16.300  5.500  7.900  25.700  2.750  4.350   \n",
      "\n",
      "                 FG3A   FG3M   DREB  \n",
      "PLAYER_encoded                       \n",
      "0               3.600  1.400  1.600  \n",
      "1               2.633  0.867  4.133  \n",
      "2               2.150  0.825  1.200  \n",
      "3               4.450  1.750  2.900  \n",
      "4               1.650  0.750  1.800  \n",
      "...               ...    ...    ...  \n",
      "429             2.450  0.850  4.100  \n",
      "430             7.467  2.933  4.200  \n",
      "431             0.400  0.100  1.100  \n",
      "432             3.900  1.200  1.700  \n",
      "433             0.450  0.150  4.300  \n",
      "\n",
      "[434 rows x 11 columns]\n"
     ]
    }
   ],
   "source": [
    "data = pd.read_csv('updated_data.csv')\n",
    "# Group the data by 'PLAYER_encoded'\n",
    "grouped_data = data.groupby('PLAYER_encoded')\n",
    "\n",
    "# Specify the columns for which you want to calculate the averages\n",
    "columns_of_interest = ['MIN', 'FGM', 'FGA', 'FTM', 'FTA', 'EFF', 'TOV', 'AST', 'FG3A', 'FG3M', 'DREB']\n",
    "\n",
    "# Calculate the mean for each of the specified columns\n",
    "average_values = grouped_data[columns_of_interest].mean().round(3)\n",
    "\n",
    "\n",
    "print(average_values)  # Print the results to review the averages\n"
   ]
  },
  {
   "cell_type": "code",
   "execution_count": 32,
   "metadata": {},
   "outputs": [
    {
     "name": "stdout",
     "output_type": "stream",
     "text": [
      "                               PLAYER\n",
      "PLAYER_encoded                       \n",
      "381                     Stephen Curry\n",
      "41                       Bradley Beal\n",
      "82                     Damian Lillard\n",
      "214                       Joel Embiid\n",
      "150             Giannis Antetokounmpo\n",
      "...                               ...\n",
      "298                      Max Christie\n",
      "203                   Jaylin Williams\n",
      "66                       Chris Duarte\n",
      "431                        Zeke Nnaji\n",
      "81                        Dalen Terry\n",
      "\n",
      "[434 rows x 1 columns]\n"
     ]
    }
   ],
   "source": [
    "# Create a mapping from 'PLAYER_encoded' to 'PLAYER'\n",
    "player_mapping = data[[\"PLAYER_encoded\", \"PLAYER\"]].drop_duplicates().set_index(\"PLAYER_encoded\")\n",
    "\n",
    "print(player_mapping)"
   ]
  },
  {
   "cell_type": "code",
   "execution_count": 33,
   "metadata": {},
   "outputs": [],
   "source": [
    "# Save the DataFrame to a CSV file\n",
    "average_values.to_csv(\"average_values.csv\", index=False)  # 'index=False' to exclude the index from the CSV\n"
   ]
  },
  {
   "cell_type": "code",
   "execution_count": 37,
   "metadata": {},
   "outputs": [
    {
     "name": "stdout",
     "output_type": "stream",
     "text": [
      "277\n",
      "MIN     35.3\n",
      "FGM      9.6\n",
      "FGA     17.9\n",
      "FTM      4.3\n",
      "FTA      5.7\n",
      "EFF     29.9\n",
      "TOV      3.5\n",
      "AST      8.3\n",
      "FG3A     5.1\n",
      "FG3M     2.1\n",
      "DREB     6.4\n",
      "Name: 277, dtype: float64\n"
     ]
    }
   ],
   "source": [
    "# Example player name input by the user\n",
    "player_name = \"LeBron James\"  # Change to the player name you want to find\n",
    "\n",
    "# Find the encoded value for the given player name\n",
    "player_encoded = player_mapping[player_mapping[\"PLAYER\"] == player_name].index[0]  # Get the encoded value\n",
    "\n",
    "print(player_encoded)\n",
    "\n",
    "row = average_values.iloc[player_encoded]\n",
    "print(row)\n",
    "# Find the row in 'average_values' that corresponds to the encoded value\n",
    "#player_averages = average_values[average_values[\"\"] == player_encoded]\n",
    "\n",
    "# Display the average values for the specified player\n"
   ]
  }
 ],
 "metadata": {
  "kernelspec": {
   "display_name": "Python 3",
   "language": "python",
   "name": "python3"
  },
  "language_info": {
   "codemirror_mode": {
    "name": "ipython",
    "version": 3
   },
   "file_extension": ".py",
   "mimetype": "text/x-python",
   "name": "python",
   "nbconvert_exporter": "python",
   "pygments_lexer": "ipython3",
   "version": "3.10.11"
  }
 },
 "nbformat": 4,
 "nbformat_minor": 2
}
